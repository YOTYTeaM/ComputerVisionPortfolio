{
 "cells": [
  {
   "cell_type": "code",
   "id": "7067901b",
   "metadata": {
    "ExecuteTime": {
     "end_time": "2025-03-30T20:47:34.338038Z",
     "start_time": "2025-03-30T20:47:24.748380Z"
    }
   },
   "source": [
    "from tensorflow.keras.models import Sequential\n",
    "from tensorflow.keras.layers import Flatten\n",
    "from tensorflow.keras.layers import Dense\n",
    "from tensorflow.keras.layers import Conv2D\n",
    "from tensorflow.keras.layers import MaxPooling2D"
   ],
   "outputs": [],
   "execution_count": 1
  },
  {
   "cell_type": "code",
   "id": "d2dccc0a",
   "metadata": {
    "ExecuteTime": {
     "end_time": "2025-03-30T20:47:34.394041Z",
     "start_time": "2025-03-30T20:47:34.344194Z"
    }
   },
   "source": [
    "import tensorflow\n",
    "adam = tensorflow.keras.optimizers.Adam(learning_rate=0.001, beta_1=0.9, beta_2=0.999, epsilon=None, decay=0.0, amsgrad=False)"
   ],
   "outputs": [
    {
     "name": "stderr",
     "output_type": "stream",
     "text": [
      "C:\\Users\\atila\\miniconda3\\envs\\JupyterProject\\Lib\\site-packages\\keras\\src\\optimizers\\base_optimizer.py:86: UserWarning: Argument `decay` is no longer supported and will be ignored.\n",
      "  warnings.warn(\n"
     ]
    }
   ],
   "execution_count": 2
  },
  {
   "cell_type": "code",
   "id": "3e710ff5",
   "metadata": {
    "ExecuteTime": {
     "end_time": "2025-03-30T20:47:34.762981Z",
     "start_time": "2025-03-30T20:47:34.758647Z"
    }
   },
   "source": [
    "from warnings import filterwarnings\n",
    "filterwarnings('ignore')"
   ],
   "outputs": [],
   "execution_count": 3
  },
  {
   "cell_type": "code",
   "id": "1fa81418",
   "metadata": {
    "ExecuteTime": {
     "end_time": "2025-03-30T20:47:34.781209Z",
     "start_time": "2025-03-30T20:47:34.772808Z"
    }
   },
   "source": [
    "from tensorflow.keras.preprocessing.image import ImageDataGenerator"
   ],
   "outputs": [],
   "execution_count": 4
  },
  {
   "cell_type": "code",
   "id": "b154ba0b",
   "metadata": {
    "ExecuteTime": {
     "end_time": "2025-03-30T20:47:43.714388Z",
     "start_time": "2025-03-30T20:47:34.790304Z"
    }
   },
   "source": [
    "train_datagen = ImageDataGenerator(rescale=1./255, rotation_range = 40, shear_range=0.1, zoom_range=0.1, horizontal_flip=True)\n",
    "\n",
    "\n",
    "test_datagen = ImageDataGenerator(rescale=1./255)\n",
    "\n",
    "\n",
    "\n",
    "train_set = train_datagen.flow_from_directory('train', target_size=(64,64), batch_size=32, class_mode='binary')\n",
    "\n",
    "\n",
    "test_set = test_datagen.flow_from_directory('test', target_size=(64,64), batch_size = 32, class_mode='binary', shuffle=False)"
   ],
   "outputs": [
    {
     "name": "stdout",
     "output_type": "stream",
     "text": [
      "Found 20000 images belonging to 2 classes.\n",
      "Found 2331 images belonging to 2 classes.\n"
     ]
    }
   ],
   "execution_count": 5
  },
  {
   "cell_type": "code",
   "id": "3ddbe81f",
   "metadata": {
    "ExecuteTime": {
     "end_time": "2025-03-30T20:47:43.740370Z",
     "start_time": "2025-03-30T20:47:43.729370Z"
    }
   },
   "source": [
    "train_set.samples"
   ],
   "outputs": [
    {
     "data": {
      "text/plain": [
       "20000"
      ]
     },
     "execution_count": 6,
     "metadata": {},
     "output_type": "execute_result"
    }
   ],
   "execution_count": 6
  },
  {
   "cell_type": "code",
   "id": "e7174cb3",
   "metadata": {
    "ExecuteTime": {
     "end_time": "2025-03-30T20:47:43.756322Z",
     "start_time": "2025-03-30T20:47:43.752810Z"
    }
   },
   "source": [],
   "outputs": [],
   "execution_count": null
  },
  {
   "cell_type": "code",
   "id": "3c14ef8f",
   "metadata": {
    "ExecuteTime": {
     "end_time": "2025-03-30T20:47:43.870329Z",
     "start_time": "2025-03-30T20:47:43.781132Z"
    }
   },
   "source": [
    "classifier = Sequential()\n",
    "\n",
    "classifier.add(Conv2D(32,(3,3),input_shape=(64,64,3),activation = 'relu'))\n",
    "\n",
    "classifier.add(MaxPooling2D(pool_size=(2,2),strides=2)) \n",
    "\n",
    "classifier.add(Conv2D(32,(3,3),activation = 'relu'))\n",
    "\n",
    "classifier.add(MaxPooling2D(pool_size=(2,2),strides=2))\n",
    "\n",
    "classifier.add(Flatten())\n",
    "\n",
    "classifier.add(Dense(units=128,activation='relu'))\n",
    "\n",
    "classifier.add(Dense(units=1,activation='sigmoid'))\n",
    "\n",
    "classifier.compile(optimizer=adam,loss='binary_crossentropy',metrics=['accuracy'])"
   ],
   "outputs": [],
   "execution_count": 7
  },
  {
   "cell_type": "code",
   "id": "c9a40eea",
   "metadata": {
    "ExecuteTime": {
     "end_time": "2025-03-30T20:47:43.884592Z",
     "start_time": "2025-03-30T20:47:43.880746Z"
    }
   },
   "source": [
    "# model.fit(train_generator, steps_per_epoch=train_generator.samples/train_generator.batch_size, \n",
    "#           epochs=10, validation_data=validation_generator, \n",
    "#           validation_steps=validation_generator.samples/validation_generator.batch_size)\n",
    "\n",
    "# in each epoch, each training sample is augmented only one time"
   ],
   "outputs": [],
   "execution_count": 8
  },
  {
   "cell_type": "code",
   "id": "8575c3bb",
   "metadata": {
    "ExecuteTime": {
     "end_time": "2025-03-30T20:47:48.608407Z",
     "start_time": "2025-03-30T20:47:43.898075Z"
    }
   },
   "source": [
    "classifier.fit(train_set, steps_per_epoch = 625, epochs = 5,  validation_data = test_set, validation_steps = 312)"
   ],
   "outputs": [
    {
     "name": "stdout",
     "output_type": "stream",
     "text": [
      "Epoch 1/5\n"
     ]
    },
    {
     "ename": "ValueError",
     "evalue": "None values not supported.",
     "output_type": "error",
     "traceback": [
      "\u001B[1;31m---------------------------------------------------------------------------\u001B[0m",
      "\u001B[1;31mValueError\u001B[0m                                Traceback (most recent call last)",
      "Cell \u001B[1;32mIn[9], line 1\u001B[0m\n\u001B[1;32m----> 1\u001B[0m classifier\u001B[38;5;241m.\u001B[39mfit(train_set, steps_per_epoch \u001B[38;5;241m=\u001B[39m \u001B[38;5;241m625\u001B[39m, epochs \u001B[38;5;241m=\u001B[39m \u001B[38;5;241m5\u001B[39m,  validation_data \u001B[38;5;241m=\u001B[39m test_set, validation_steps \u001B[38;5;241m=\u001B[39m \u001B[38;5;241m312\u001B[39m)\n",
      "File \u001B[1;32m~\\miniconda3\\envs\\JupyterProject\\Lib\\site-packages\\keras\\src\\utils\\traceback_utils.py:122\u001B[0m, in \u001B[0;36mfilter_traceback.<locals>.error_handler\u001B[1;34m(*args, **kwargs)\u001B[0m\n\u001B[0;32m    119\u001B[0m     filtered_tb \u001B[38;5;241m=\u001B[39m _process_traceback_frames(e\u001B[38;5;241m.\u001B[39m__traceback__)\n\u001B[0;32m    120\u001B[0m     \u001B[38;5;66;03m# To get the full stack trace, call:\u001B[39;00m\n\u001B[0;32m    121\u001B[0m     \u001B[38;5;66;03m# `keras.config.disable_traceback_filtering()`\u001B[39;00m\n\u001B[1;32m--> 122\u001B[0m     \u001B[38;5;28;01mraise\u001B[39;00m e\u001B[38;5;241m.\u001B[39mwith_traceback(filtered_tb) \u001B[38;5;28;01mfrom\u001B[39;00m \u001B[38;5;28;01mNone\u001B[39;00m\n\u001B[0;32m    123\u001B[0m \u001B[38;5;28;01mfinally\u001B[39;00m:\n\u001B[0;32m    124\u001B[0m     \u001B[38;5;28;01mdel\u001B[39;00m filtered_tb\n",
      "File \u001B[1;32m~\\miniconda3\\envs\\JupyterProject\\Lib\\site-packages\\keras\\src\\backend\\tensorflow\\core.py:140\u001B[0m, in \u001B[0;36mconvert_to_tensor\u001B[1;34m(x, dtype, sparse, ragged)\u001B[0m\n\u001B[0;32m    138\u001B[0m         x \u001B[38;5;241m=\u001B[39m tf\u001B[38;5;241m.\u001B[39mconvert_to_tensor(x)\n\u001B[0;32m    139\u001B[0m         \u001B[38;5;28;01mreturn\u001B[39;00m tf\u001B[38;5;241m.\u001B[39mcast(x, dtype)\n\u001B[1;32m--> 140\u001B[0m     \u001B[38;5;28;01mreturn\u001B[39;00m tf\u001B[38;5;241m.\u001B[39mconvert_to_tensor(x, dtype\u001B[38;5;241m=\u001B[39mdtype)\n\u001B[0;32m    141\u001B[0m \u001B[38;5;28;01melif\u001B[39;00m dtype \u001B[38;5;129;01mis\u001B[39;00m \u001B[38;5;129;01mnot\u001B[39;00m \u001B[38;5;28;01mNone\u001B[39;00m \u001B[38;5;129;01mand\u001B[39;00m \u001B[38;5;129;01mnot\u001B[39;00m x\u001B[38;5;241m.\u001B[39mdtype \u001B[38;5;241m==\u001B[39m dtype:\n\u001B[0;32m    142\u001B[0m     \u001B[38;5;28;01mif\u001B[39;00m \u001B[38;5;28misinstance\u001B[39m(x, tf\u001B[38;5;241m.\u001B[39mSparseTensor):\n",
      "\u001B[1;31mValueError\u001B[0m: None values not supported."
     ]
    }
   ],
   "execution_count": 9
  },
  {
   "cell_type": "code",
   "execution_count": 9,
   "id": "8e9d086b",
   "metadata": {},
   "outputs": [],
   "source": [
    "classifier.save('dogcat_model.h5')"
   ]
  },
  {
   "cell_type": "code",
   "execution_count": 10,
   "id": "3228914e",
   "metadata": {},
   "outputs": [],
   "source": [
    "from tensorflow.keras.models import load_model"
   ]
  },
  {
   "cell_type": "code",
   "execution_count": 11,
   "id": "4bc26bc4",
   "metadata": {},
   "outputs": [],
   "source": [
    "classifier = load_model('dogcat_model.h5')"
   ]
  },
  {
   "cell_type": "code",
   "execution_count": 12,
   "id": "a5875335",
   "metadata": {},
   "outputs": [],
   "source": [
    "from tensorflow.keras.preprocessing import image\n",
    "import matplotlib.pyplot as plt\n",
    "import numpy as np"
   ]
  },
  {
   "cell_type": "code",
   "execution_count": 13,
   "id": "983096e0",
   "metadata": {},
   "outputs": [
    {
     "name": "stdout",
     "output_type": "stream",
     "text": [
      "1/1 [==============================] - 1s 597ms/step\n"
     ]
    },
    {
     "data": {
      "image/png": "[encoded data removed]",
      "text/plain": [
       "<Figure size 640x480 with 1 Axes>"
      ]
     },
     "metadata": {},
     "output_type": "display_data"
    }
   ],
   "source": [
    "img1 = image.load_img('test/Cats/cat.9.jpg', target_size=(64, 64))\n",
    "\n",
    "img = image.img_to_array(img1)\n",
    "\n",
    "img = img/255\n",
    "\n",
    "img = np.expand_dims(img, axis=0)\n",
    "\n",
    "prediction = classifier.predict(img, batch_size=None,steps=1) \n",
    "\n",
    "if(prediction[:,:]>0.5):\n",
    "    value ='Dog :%1.2f'%(prediction[0,0])\n",
    "    plt.text(20, 62,value,color='red',fontsize=18,bbox=dict(facecolor='white',alpha=0.8))\n",
    "else:\n",
    "    value ='Cat :%1.2f'%(1.0-prediction[0,0])\n",
    "    plt.text(20, 62,value,color='red',fontsize=18,bbox=dict(facecolor='white',alpha=0.8))\n",
    "\n",
    "    \n",
    "plt.imshow(img1)\n",
    "plt.show()\n"
   ]
  },
  {
   "cell_type": "code",
   "execution_count": null,
   "id": "8f026c66",
   "metadata": {},
   "outputs": [],
   "source": []
  }
 ],
 "metadata": {
  "kernelspec": {
   "display_name": "Python 3 (ipykernel)",
   "language": "python",
   "name": "python3"
  },
  "language_info": {
   "codemirror_mode": {
    "name": "ipython",
    "version": 3
   },
   "file_extension": ".py",
   "mimetype": "text/x-python",
   "name": "python",
   "nbconvert_exporter": "python",
   "pygments_lexer": "ipython3",
   "version": "3.10.13"
  }
 },
 "nbformat": 4,
 "nbformat_minor": 5
}
